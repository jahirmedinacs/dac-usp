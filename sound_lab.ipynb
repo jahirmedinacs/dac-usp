{
 "cells": [
  {
   "cell_type": "code",
   "execution_count": 1,
   "metadata": {
    "hideCode": false,
    "hidePrompt": false
   },
   "outputs": [],
   "source": [
    "#! /usr/bin/python3 -i\n",
    "\n",
    "import sys\n",
    "\n",
    "import os\n",
    "\n",
    "import wave\n",
    "import numpy as np\n",
    "import scipy as sp\n",
    "\n",
    "from matplotlib import pyplot as  plt\n",
    "\n",
    "from pprint import pprint\n",
    "import struct\n",
    "\n",
    "from copy import copy as copy\n",
    "\n",
    "import pandas as pd\n",
    "\n",
    "import time\n",
    "\n",
    "import threading\n",
    "\n",
    "import math"
   ]
  },
  {
   "cell_type": "code",
   "execution_count": 2,
   "metadata": {
    "hideCode": false,
    "hidePrompt": false
   },
   "outputs": [
    {
     "data": {
      "text/plain": [
       "_wave_params(nchannels=2, sampwidth=2, framerate=44100, nframes=53934, comptype='NONE', compname='not compressed')"
      ]
     },
     "execution_count": 2,
     "metadata": {},
     "output_type": "execute_result"
    }
   ],
   "source": [
    "dummy = wave.open(\"./Yamaha-TG100-Whistle-C5.wav\")\n",
    "dummy.getparams()"
   ]
  },
  {
   "cell_type": "code",
   "execution_count": 3,
   "metadata": {
    "hideCode": false,
    "hidePrompt": false
   },
   "outputs": [
    {
     "data": {
      "text/plain": [
       "<chunk.Chunk at 0x7fc35625c518>"
      ]
     },
     "execution_count": 3,
     "metadata": {},
     "output_type": "execute_result"
    }
   ],
   "source": [
    "dummy.getfp()"
   ]
  },
  {
   "cell_type": "code",
   "execution_count": 4,
   "metadata": {
    "hideCode": false,
    "hidePrompt": false,
    "scrolled": false
   },
   "outputs": [
    {
     "name": "stdout",
     "output_type": "stream",
     "text": [
      "2\n"
     ]
    }
   ],
   "source": [
    "do = True\n",
    "ii = 0\n",
    "\n",
    "sound_dict_container = [{}, {}]\n",
    "alt_sound_container = [copy(sound_dict_container) for _ in range(dummy.getnchannels())]\n",
    "\n",
    "dummy.rewind()\n",
    "sound_container = [[] for _ in range(dummy.getnchannels())]\n",
    "while do:\n",
    "    try:\n",
    "        dummy.setpos(ii)\n",
    "        temp_frame = dummy.readframes(1)\n",
    "        \n",
    "        start_id = 0\n",
    "        for jj in range(dummy.getnchannels()):\n",
    "            end_id = start_id  + dummy.getsampwidth()\n",
    "            \n",
    "            raw_bin = temp_frame[ start_id : end_id ]\n",
    "            val = struct.unpack(\"<h\", raw_bin)[0]\n",
    "            \n",
    "            sound_container[jj].append(val)\n",
    "            \n",
    "            if val <= 0:\n",
    "                alt_sound_container[jj][0][dummy.tell()] = val\n",
    "            else:\n",
    "                alt_sound_container[jj][1][dummy.tell()] = val\n",
    "            start_id = end_id\n",
    "            \n",
    "        if dummy.tell() == dummy.getnframes():\n",
    "            do = False\n",
    "        else:\n",
    "            pass\n",
    "    except:\n",
    "        print(ii, dummy.getnframes())\n",
    "        do = False\n",
    "        \n",
    "    ii += 1\n",
    "    \n",
    "print(len(sound_container))"
   ]
  },
  {
   "cell_type": "code",
   "execution_count": 5,
   "metadata": {},
   "outputs": [],
   "source": [
    "df_sound = pd.DataFrame(np.matrix(sound_container).T, columns=[\"L\", \"R\"])"
   ]
  },
  {
   "cell_type": "code",
   "execution_count": 6,
   "metadata": {},
   "outputs": [
    {
     "data": {
      "text/html": [
       "<div>\n",
       "<style scoped>\n",
       "    .dataframe tbody tr th:only-of-type {\n",
       "        vertical-align: middle;\n",
       "    }\n",
       "\n",
       "    .dataframe tbody tr th {\n",
       "        vertical-align: top;\n",
       "    }\n",
       "\n",
       "    .dataframe thead th {\n",
       "        text-align: right;\n",
       "    }\n",
       "</style>\n",
       "<table border=\"1\" class=\"dataframe\">\n",
       "  <thead>\n",
       "    <tr style=\"text-align: right;\">\n",
       "      <th></th>\n",
       "      <th>L</th>\n",
       "      <th>R</th>\n",
       "    </tr>\n",
       "  </thead>\n",
       "  <tbody>\n",
       "    <tr>\n",
       "      <th>count</th>\n",
       "      <td>53934.000000</td>\n",
       "      <td>53934.000000</td>\n",
       "    </tr>\n",
       "    <tr>\n",
       "      <th>mean</th>\n",
       "      <td>-1.301443</td>\n",
       "      <td>-1.116828</td>\n",
       "    </tr>\n",
       "    <tr>\n",
       "      <th>std</th>\n",
       "      <td>11010.183482</td>\n",
       "      <td>10706.828524</td>\n",
       "    </tr>\n",
       "    <tr>\n",
       "      <th>min</th>\n",
       "      <td>-32733.000000</td>\n",
       "      <td>-31659.000000</td>\n",
       "    </tr>\n",
       "    <tr>\n",
       "      <th>25%</th>\n",
       "      <td>-1469.000000</td>\n",
       "      <td>-1358.000000</td>\n",
       "    </tr>\n",
       "    <tr>\n",
       "      <th>50%</th>\n",
       "      <td>4.500000</td>\n",
       "      <td>-2.000000</td>\n",
       "    </tr>\n",
       "    <tr>\n",
       "      <th>75%</th>\n",
       "      <td>1463.750000</td>\n",
       "      <td>1361.000000</td>\n",
       "    </tr>\n",
       "    <tr>\n",
       "      <th>max</th>\n",
       "      <td>32625.000000</td>\n",
       "      <td>31321.000000</td>\n",
       "    </tr>\n",
       "  </tbody>\n",
       "</table>\n",
       "</div>"
      ],
      "text/plain": [
       "                  L             R\n",
       "count  53934.000000  53934.000000\n",
       "mean      -1.301443     -1.116828\n",
       "std    11010.183482  10706.828524\n",
       "min   -32733.000000 -31659.000000\n",
       "25%    -1469.000000  -1358.000000\n",
       "50%        4.500000     -2.000000\n",
       "75%     1463.750000   1361.000000\n",
       "max    32625.000000  31321.000000"
      ]
     },
     "execution_count": 6,
     "metadata": {},
     "output_type": "execute_result"
    }
   ],
   "source": [
    "df_sound.describe()"
   ]
  },
  {
   "cell_type": "code",
   "execution_count": 7,
   "metadata": {},
   "outputs": [
    {
     "data": {
      "text/plain": [
       "53934"
      ]
     },
     "execution_count": 7,
     "metadata": {},
     "output_type": "execute_result"
    }
   ],
   "source": [
    "len(sound_container[0])"
   ]
  },
  {
   "cell_type": "code",
   "execution_count": 8,
   "metadata": {},
   "outputs": [],
   "source": [
    "negative_left_dict_container = list(alt_sound_container[1][0].values())"
   ]
  },
  {
   "cell_type": "code",
   "execution_count": 9,
   "metadata": {},
   "outputs": [
    {
     "data": {
      "text/plain": [
       "-4387.732880559669"
      ]
     },
     "execution_count": 9,
     "metadata": {},
     "output_type": "execute_result"
    }
   ],
   "source": [
    "# np.unique(np.array(list(negative_left_dict_container.values()))).shape\n",
    "# len(list(negative_left_dict_container.values()))\n",
    "# np.median(np.array(list(negative_left_dict_container.values())))\n",
    "np.array(negative_left_dict_container).mean()"
   ]
  },
  {
   "cell_type": "code",
   "execution_count": 10,
   "metadata": {},
   "outputs": [
    {
     "data": {
      "text/plain": [
       "[<matplotlib.lines.Line2D at 0x7fc353cd93c8>]"
      ]
     },
     "execution_count": 10,
     "metadata": {},
     "output_type": "execute_result"
    },
    {
     "data": {
      "image/png": "[encoded data removed]",
      "text/plain": [
       "<Figure size 432x288 with 1 Axes>"
      ]
     },
     "metadata": {},
     "output_type": "display_data"
    }
   ],
   "source": [
    "srt_val = 0\n",
    "cut_val = int(1e3)\n",
    "\n",
    "raw_list = negative_left_dict_container[srt_val:cut_val]\n",
    "\n",
    "plt.plot(np.arange(len(raw_list)), raw_list, ',r')"
   ]
  },
  {
   "cell_type": "code",
   "execution_count": 11,
   "metadata": {
    "hideCode": false,
    "hidePrompt": false
   },
   "outputs": [],
   "source": [
    "data = np.matrix(sound_container)"
   ]
  },
  {
   "cell_type": "code",
   "execution_count": 12,
   "metadata": {},
   "outputs": [
    {
     "name": "stdout",
     "output_type": "stream",
     "text": [
      "53934\n"
     ]
    },
    {
     "data": {
      "text/plain": [
       "[<matplotlib.lines.Line2D at 0x7fc353c72518>]"
      ]
     },
     "execution_count": 12,
     "metadata": {},
     "output_type": "execute_result"
    },
    {
     "data": {
      "image/png": "[encoded data removed]",
      "text/plain": [
       "<Figure size 432x288 with 1 Axes>"
      ]
     },
     "metadata": {},
     "output_type": "display_data"
    }
   ],
   "source": [
    "#plt.figure(figsize=(10,10))\n",
    "print(dummy.getnframes())\n",
    "max_sampler_id = int(1e3)\n",
    "plt.plot(sound_container[0][:max_sampler_id], \".r\")\n",
    "plt.plot(sound_container[0][:max_sampler_id], \"--g\")"
   ]
  },
  {
   "cell_type": "code",
   "execution_count": 13,
   "metadata": {
    "hideCode": false,
    "hidePrompt": false
   },
   "outputs": [
    {
     "data": {
      "text/plain": [
       "[<matplotlib.lines.Line2D at 0x7fc353a30ba8>]"
      ]
     },
     "execution_count": 13,
     "metadata": {},
     "output_type": "execute_result"
    },
    {
     "data": {
      "image/png": "[encoded data removed]",
      "text/plain": [
       "<Figure size 432x288 with 1 Axes>"
      ]
     },
     "metadata": {},
     "output_type": "display_data"
    }
   ],
   "source": [
    "aa_bb = np.fft.fft(sound_container[0]).real\n",
    "max_sampler_id = int(1e3)\n",
    "plt.plot(aa_bb[:max_sampler_id], \".r\")\n",
    "plt.plot(aa_bb[:max_sampler_id], \"--g\")"
   ]
  },
  {
   "cell_type": "code",
   "execution_count": 14,
   "metadata": {},
   "outputs": [
    {
     "data": {
      "text/plain": [
       "[<matplotlib.lines.Line2D at 0x7fc353a0ee48>]"
      ]
     },
     "execution_count": 14,
     "metadata": {},
     "output_type": "execute_result"
    },
    {
     "data": {
      "image/png": "[encoded data removed]",
      "text/plain": [
       "<Figure size 432x288 with 1 Axes>"
      ]
     },
     "metadata": {},
     "output_type": "display_data"
    }
   ],
   "source": [
    "aa_bb = np.fft.fft(sound_container[0]).imag\n",
    "max_sampler_id = int(1e3)\n",
    "plt.plot(aa_bb[:max_sampler_id], \".r\")\n",
    "plt.plot(aa_bb[:max_sampler_id], \"--g\")"
   ]
  },
  {
   "cell_type": "code",
   "execution_count": 15,
   "metadata": {
    "hideCode": false,
    "hidePrompt": false
   },
   "outputs": [],
   "source": [
    "def wav_2_data(wav_obj_pointer, n_channels, samples_per_sec, bits_per_sample, chunksize , verbose=False):\n",
    "    pass\n",
    "    "
   ]
  },
  {
   "cell_type": "code",
   "execution_count": null,
   "metadata": {
    "hideCode": false,
    "hidePrompt": false
   },
   "outputs": [],
   "source": []
  },
  {
   "cell_type": "code",
   "execution_count": 16,
   "metadata": {
    "hideCode": false,
    "hidePrompt": false
   },
   "outputs": [],
   "source": [
    "def stereo_chanel_data(wav_obj_pointer, verbose=False):\n",
    "    wav_obj_pointer.rewind()\n",
    "    \n",
    "    signed_data_l = []\n",
    "    signed_data_r = []\n",
    "\n",
    "    total_frames = wav_obj_pointer.getnframes()\n",
    "    amount = 0\n",
    "\n",
    "    for frame_index in range(1 , total_frames - 1, 1):\n",
    "        wav_obj_pointer.setpos(frame_index)\n",
    "\n",
    "        try:\n",
    "            l_int = struct.unpack(\"<h\",wav_obj_pointer.readframes(1)[:2])[0]\n",
    "            r_int = struct.unpack(\"<h\",wav_obj_pointer.readframes(1)[-2:])[0]\n",
    "\n",
    "        except:\n",
    "            if verbose:\n",
    "                print(\"error with frame \\t\" , frame_index , \" N_CHANEL_DATA ERROR \\n\")\n",
    "        else:\n",
    "            signed_data_l.append(l_int)\n",
    "            signed_data_r.append(r_int)\n",
    "\n",
    "            if frame_index % (44100*20) == 0 and verbose:\n",
    "                print(round((frame_index / total_frames) * 100, 4), \"\\t%\")\n",
    "                print(l_int, \"\\t\", r_int)\n",
    "                print(len(signed_data_l), \"\\t\", len(signed_data_r))\n",
    "\n",
    "    return [signed_data_l, signed_data_r]"
   ]
  },
  {
   "cell_type": "code",
   "execution_count": 17,
   "metadata": {
    "hideCode": false,
    "hidePrompt": false
   },
   "outputs": [],
   "source": [
    "def mono_chanel_data(wav_obj_pointer, verbose=False):\n",
    "    wav_obj_pointer.rewind()\n",
    "    \n",
    "    signed_data = []\n",
    "\n",
    "    total_frames = wav_obj_pointer.getnframes()\n",
    "    amount = 0\n",
    "\n",
    "    for frame_index in range(1 , total_frames - 1, 1):\n",
    "        wav_obj_pointer.setpos(frame_index)\n",
    "\n",
    "        try:\n",
    "            g_int = struct.unpack(\"<h\",wav_obj_pointer.readframes(1)[:2])[0]\n",
    "        except:\n",
    "            if verbose:\n",
    "                print(\"error with frame \\t\" , frame_index , \" N_CHANEL_DATA ERROR \\n\")\n",
    "        else:\n",
    "            signed_data.append(g_int)\n",
    "\n",
    "            if frame_index % (44100*20) == 0 and verbose:\n",
    "                print(round((frame_index / total_frames) * 100, 4), \"\\t%\")\n",
    "                print(l_int, \"\\t\", r_int)\n",
    "                print(len(signed_data_l), \"\\t\", len(signed_data_r))\n",
    "\n",
    "    return signed_data"
   ]
  },
  {
   "cell_type": "code",
   "execution_count": 18,
   "metadata": {
    "hideCode": false,
    "hidePrompt": false
   },
   "outputs": [],
   "source": [
    "def data_2_wav(data, specs, path, verbose=False):\n",
    "    os.system(\"touch \" + path)\n",
    "    if verbose:\n",
    "        print(\"creating destination file\\t\" + path)\n",
    "    \n",
    "    try:           \n",
    "        output.close()\n",
    "    except:\n",
    "        if verbose:\n",
    "            print(\"alocating file\")\n",
    "            \n",
    "        output = wave.open(path, 'w')\n",
    "    else:\n",
    "        output = wave.open(path, 'w')\n",
    "        if verbose:\n",
    "            print(\"file already exists\")\n",
    "    \n",
    "    if verbose:\n",
    "            print(\"setting sound specs\")\n",
    "    \n",
    "    specs[0] = 1\n",
    "    specs[3] = len(data)\n",
    "    \n",
    "    output.setparams(specs)\n",
    "    \n",
    "    if verbose:\n",
    "        print(\"formating data...\")\n",
    "        \n",
    "    _carry = []\n",
    "    for ii in list(data):\n",
    "        _carry.append(struct.pack('<h', ii))\n",
    "\n",
    "    _carry = b''.join(_carry)\n",
    "    \n",
    "    if verbose:\n",
    "            print(\"writing...\")\n",
    "    \n",
    "    output.writeframes(_carry)\n",
    "    \n",
    "    output.close()\n",
    "    \n",
    "    if verbose:\n",
    "        print(\"DONE\")"
   ]
  },
  {
   "cell_type": "code",
   "execution_count": 19,
   "metadata": {
    "hideCode": false,
    "hidePrompt": false
   },
   "outputs": [
    {
     "ename": "SyntaxError",
     "evalue": "'return' outside function (<ipython-input-19-a05bbe1b187f>, line 216)",
     "output_type": "error",
     "traceback": [
      "\u001b[0;36m  File \u001b[0;32m\"<ipython-input-19-a05bbe1b187f>\"\u001b[0;36m, line \u001b[0;32m216\u001b[0m\n\u001b[0;31m    return x\u001b[0m\n\u001b[0m            ^\u001b[0m\n\u001b[0;31mSyntaxError\u001b[0m\u001b[0;31m:\u001b[0m 'return' outside function\n"
     ]
    }
   ],
   "source": [
    "def stereo_chanel_data(wav_obj_pointer, verbose=False):\n",
    "    wav_obj_pointer.rewind()\n",
    "    \n",
    "    signed_data_l = []\n",
    "    signed_data_r = []\n",
    "\n",
    "    total_frames = wav_obj_pointer.getnframes()\n",
    "    amount = 0\n",
    "\n",
    "    for frame_index in range(1 , total_frames - 1, 1):\n",
    "        wav_obj_pointer.setpos(frame_index)\n",
    "\n",
    "        try:\n",
    "            l_int = struct.unpack(\"<h\",wav_obj_pointer.readframes(1)[:2])[0]\n",
    "            r_int = struct.unpack(\"<h\",wav_obj_pointer.readframes(1)[-2:])[0]\n",
    "\n",
    "        except:\n",
    "            if verbose:\n",
    "                print(\"error with frame \\t\" , frame_index , \" N_CHANEL_DATA ERROR \\n\")\n",
    "        else:\n",
    "            signed_data_l.append(l_int)\n",
    "            signed_data_r.append(r_int)\n",
    "\n",
    "            if frame_index % (44100*20) == 0 and verbose:\n",
    "                print(round((frame_index / total_frames) * 100, 4), \"\\t%\")\n",
    "                print(l_int, \"\\t\", r_int)\n",
    "                print(len(signed_data_l), \"\\t\", len(signed_data_r))\n",
    "\n",
    "    return [signed_data_l, signed_data_r]\n",
    "\n",
    "def mono_chanel_data(wav_obj_pointer, verbose=False):\n",
    "    wav_obj_pointer.rewind()\n",
    "    \n",
    "    signed_data = []\n",
    "\n",
    "    total_frames = wav_obj_pointer.getnframes()\n",
    "    amount = 0\n",
    "\n",
    "    for frame_index in range(1 , total_frames - 1, 1):\n",
    "        wav_obj_pointer.setpos(frame_index)\n",
    "\n",
    "        try:\n",
    "            g_int = struct.unpack(\"<h\",wav_obj_pointer.readframes(1)[:2])[0]\n",
    "        except:\n",
    "            if verbose:\n",
    "                print(\"error with frame \\t\" , frame_index , \" N_CHANEL_DATA ERROR \\n\")\n",
    "        else:\n",
    "            signed_data.append(g_int)\n",
    "\n",
    "            if frame_index % (44100*20) == 0 and verbose:\n",
    "                print(round((frame_index / total_frames) * 100, 4), \"\\t%\")\n",
    "                print(l_int, \"\\t\", r_int)\n",
    "                print(len(signed_data_l), \"\\t\", len(signed_data_r))\n",
    "\n",
    "    return signed_data\n",
    "\n",
    "def sound_csv(files, basic_verbose = False, verbose=False):\n",
    "    \n",
    "    for index in range(len(files)):\n",
    "        \n",
    "        if verbose:\n",
    "            print(files[index][1], \"\\t in execution at : \\t 0 % and going\")\n",
    "        elif basic_verbose:\n",
    "            print(files[index][1], \"\\t in execution with index\\t\", index)\n",
    "        else:\n",
    "            pass\n",
    "            \n",
    "        [sound_obj_ref , sound_name] = files[index]\n",
    "        \n",
    "        data_l_r = stereo_chanel_data(sound_obj_ref, verbose)\n",
    "        \n",
    "        carry_data = np.matrix(data_l_r).T\n",
    "        \n",
    "        sound_frame_data = pd.DataFrame(carry_data, columns=[\"left\", \"rigth\"])\n",
    "                \n",
    "        sound_frame_data.to_csv( (DATA_PATH + sound_name[:-4] + \".csv\"), sep='\\t', encoding='utf-8')\n",
    "        \n",
    "        if verbose or basic_verbose:\n",
    "            print(\"\\n\", sound_name , \"\\tDONE\\n\")\n",
    "\n",
    "            \n",
    "def meta_data(files, path, verbose=False):\n",
    "    specs_matrix = []\n",
    "    \n",
    "    for index in range(len(files)):\n",
    "        if verbose:\n",
    "            print(files[index][1], \"\\t in transcription\")\n",
    "        else:\n",
    "            pass\n",
    "        \n",
    "        [sound_obj_ref , sound_name] = files[index]\n",
    "        \n",
    "        specs_matrix.append([sound_name] + list(sound_obj_ref.getparams()))\n",
    "        \n",
    "        if verbose:\n",
    "            print(\"\\n\", sound_name , \"\\tDONE\\n\")\n",
    "    \n",
    "    meta_sound_data = pd.DataFrame(specs_matrix, columns=\n",
    "                                   [\"file name\", \"nchannels\", \"sampwidth\", \"framerate\", \"nframes\", \"comptype\", \"compname\"])\n",
    "                \n",
    "    meta_sound_data.to_csv( (path + \"meta_sound_data.csv\"), sep='\\t', encoding='utf-8')\n",
    "    \n",
    "def data_2_wav(data, specs, path, verbose=False):\n",
    "    os.system(\"touch \" + path)\n",
    "    if verbose:\n",
    "        print(\"creating destination file\\t\" + path)\n",
    "    \n",
    "    try:           \n",
    "        output.close()\n",
    "    except:\n",
    "        if verbose:\n",
    "            print(\"alocating file\")\n",
    "            \n",
    "        output = wave.open(path, 'w')\n",
    "    else:\n",
    "        output = wave.open(path, 'w')\n",
    "        if verbose:\n",
    "            print(\"file already exists\")\n",
    "    \n",
    "    if verbose:\n",
    "            print(\"setting sound specs\")\n",
    "    \n",
    "    specs[0] = 1\n",
    "    specs[3] = len(data)\n",
    "    \n",
    "    output.setparams(specs)\n",
    "    \n",
    "    if verbose:\n",
    "        print(\"formating data...\")\n",
    "        \n",
    "    _carry = []\n",
    "    for ii in list(data):\n",
    "        _carry.append(struct.pack('<h', ii))\n",
    "\n",
    "    _carry = b''.join(_carry)\n",
    "    \n",
    "    if verbose:\n",
    "            print(\"writing...\")\n",
    "    \n",
    "    output.writeframes(_carry)\n",
    "    \n",
    "    output.close()\n",
    "    \n",
    "    if verbose:\n",
    "        print(\"DONE\")\n",
    "        \n",
    "def wavelength_to_rgb(wavelength, gamma=0.8):\n",
    "\n",
    "    '''This converts a given wavelength of light to an \n",
    "    approximate RGB color value. The wavelength must be given\n",
    "    in nanometers in the range from 380 nm through 750 nm\n",
    "    (789 THz through 400 THz).\n",
    "\n",
    "    Based on code by Dan Bruton\n",
    "    http://www.physics.sfasu.edu/astro/color/spectra.html\n",
    "    '''\n",
    "\n",
    "    wavelength = float(wavelength)\n",
    "    if wavelength >= 380 and wavelength <= 440:\n",
    "        attenuation = 0.3 + 0.7 * (wavelength - 380) / (440 - 380)\n",
    "        R = ((-(wavelength - 440) / (440 - 380)) * attenuation) ** gamma\n",
    "        G = 0.0\n",
    "        B = (1.0 * attenuation) ** gamma\n",
    "    elif wavelength >= 440 and wavelength <= 490:\n",
    "        R = 0.0\n",
    "        G = ((wavelength - 440) / (490 - 440)) ** gamma\n",
    "        B = 1.0\n",
    "    elif wavelength >= 490 and wavelength <= 510:\n",
    "        R = 0.0\n",
    "        G = 1.0\n",
    "        B = (-(wavelength - 510) / (510 - 490)) ** gamma\n",
    "    elif wavelength >= 510 and wavelength <= 580:\n",
    "        R = ((wavelength - 510) / (580 - 510)) ** gamma\n",
    "        G = 1.0\n",
    "        B = 0.0\n",
    "    elif wavelength >= 580 and wavelength <= 645:\n",
    "        R = 1.0\n",
    "        G = (-(wavelength - 645) / (645 - 580)) ** gamma\n",
    "        B = 0.0\n",
    "    elif wavelength >= 645 and wavelength <= 750:\n",
    "        attenuation = 0.3 + 0.7 * (750 - wavelength) / (750 - 645)\n",
    "        R = (1.0 * attenuation) ** gamma\n",
    "        G = 0.0\n",
    "        B = 0.0\n",
    "    else:\n",
    "        R = 0.0\n",
    "        G = 0.0\n",
    "        B = 0.0\n",
    "    R *= 255\n",
    "    G *= 255\n",
    "    B *= 255\n",
    "    return [int(R), int(G), int(B)]\n",
    "\n",
    "def Int2nM(x, rang_vals, verbose = False):\n",
    "    [min_val, max_val] = rang_vals\n",
    "    THz_o = 380.0\n",
    "    THz_f = 750.0\n",
    "    \n",
    "    d = THz_f - THz_o\n",
    "    d_val = max_val - min_val\n",
    "    \n",
    "#     x = x / (10 ** 12)\n",
    "    \n",
    "    ratio = (d / d_val)\n",
    "    \n",
    "    if verbose:\n",
    "        print(x) \n",
    "        print(ratio)\n",
    "    \n",
    "    x = (x - min_val) * ratio + THz_o\n",
    "    \n",
    "    if verbose:\n",
    "        print(x)\n",
    "    \n",
    "\n",
    "return x"
   ]
  },
  {
   "cell_type": "code",
   "execution_count": 20,
   "metadata": {},
   "outputs": [],
   "source": [
    "x = (0, 1e6)\n",
    "expected_kernels = 32\n",
    "amount_of_recursions = math.ceil(math.log2(expected_kernels))"
   ]
  },
  {
   "cell_type": "code",
   "execution_count": 21,
   "metadata": {},
   "outputs": [],
   "source": [
    "def clustered_engine(data, process_list, range_tuple , recursion_stage, recursion_base, verbose=True, funtion_kernel, *args):\n",
    "        if recursion_stage == 0:\n",
    "            if Verbose:\n",
    "                print(\"Done\")\n",
    "            return None\n",
    "        else:\n",
    "            pass"
   ]
  },
  {
   "cell_type": "code",
   "execution_count": null,
   "metadata": {},
   "outputs": [],
   "source": []
  },
  {
   "cell_type": "code",
   "execution_count": null,
   "metadata": {},
   "outputs": [],
   "source": []
  }
 ],
 "metadata": {
  "celltoolbar": "Hide code",
  "hide_code_all_hidden": true,
  "kernelspec": {
   "display_name": "Python 3",
   "language": "python",
   "name": "python3"
  },
  "language_info": {
   "codemirror_mode": {
    "name": "ipython",
    "version": 3
   },
   "file_extension": ".py",
   "mimetype": "text/x-python",
   "name": "python",
   "nbconvert_exporter": "python",
   "pygments_lexer": "ipython3",
   "version": "3.6.5"
  }
 },
 "nbformat": 4,
 "nbformat_minor": 2
}
