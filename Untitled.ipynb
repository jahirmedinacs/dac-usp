{
 "cells": [
  {
   "cell_type": "code",
   "execution_count": 1,
   "metadata": {},
   "outputs": [],
   "source": [
    "import wave\n",
    "import struct\n",
    "import time\n",
    "import numpy as np\n",
    "\n",
    "from copy import copy as copy\n",
    "\n",
    "import array\n",
    "import math"
   ]
  },
  {
   "cell_type": "code",
   "execution_count": 2,
   "metadata": {},
   "outputs": [],
   "source": [
    "def timeit(method):\n",
    "    def timed(*args, **kw):\n",
    "        ts = time.time()\n",
    "        result = method(*args, **kw)\n",
    "        te = time.time()\n",
    "        if 'log_time' in kw:\n",
    "            name = kw.get('log_name', method.__name__.upper())\n",
    "            kw['log_time'][name] = int((te - ts) * 1000)\n",
    "        else:\n",
    "            print('%r  %2.2f ms' % \\\n",
    "                  (method.__name__, (te - ts) * 1000))\n",
    "        return result\n",
    "    return timed"
   ]
  },
  {
   "cell_type": "code",
   "execution_count": 3,
   "metadata": {},
   "outputs": [],
   "source": [
    "dummy = open(\"./Yamaha-TG100-Whistle-C5.wav\", \"rb\")"
   ]
  },
  {
   "cell_type": "code",
   "execution_count": 4,
   "metadata": {},
   "outputs": [
    {
     "name": "stdout",
     "output_type": "stream",
     "text": [
      "DATA b'data\\xb8J\\x03\\x00\\xfd'\n"
     ]
    }
   ],
   "source": [
    "top  = 50\n",
    "i = 0\n",
    "binary_string = None\n",
    "\n",
    "add_to_ = False\n",
    "\n",
    "while top:\n",
    "    \n",
    "    line = dummy.read1(i)\n",
    "    \n",
    "    if add_to_:\n",
    "        binary_string += line\n",
    "    \n",
    "    if \"data\".encode('utf-8') in line and not add_to_:\n",
    "        print(\"DATA\", line)\n",
    "        \n",
    "        binary_string = line\n",
    "        \n",
    "        add_to_ = True\n",
    "    \n",
    "    else:\n",
    "        pass\n",
    "    \n",
    "    \n",
    "    i += 1\n",
    "    top -= 1"
   ]
  },
  {
   "cell_type": "code",
   "execution_count": 5,
   "metadata": {},
   "outputs": [],
   "source": [
    "wave_dummy = wave.open(\"./Yamaha-TG100-Whistle-C5.wav\")"
   ]
  },
  {
   "cell_type": "code",
   "execution_count": 6,
   "metadata": {},
   "outputs": [
    {
     "data": {
      "text/plain": [
       "b'\\xfd\\xff\\xfc\\xff'"
      ]
     },
     "execution_count": 6,
     "metadata": {},
     "output_type": "execute_result"
    }
   ],
   "source": [
    "wave_dummy.readframes(1)"
   ]
  },
  {
   "cell_type": "code",
   "execution_count": 7,
   "metadata": {},
   "outputs": [],
   "source": [
    "# print(binary_string)"
   ]
  },
  {
   "cell_type": "code",
   "execution_count": 8,
   "metadata": {},
   "outputs": [],
   "source": [
    "# for ii in binary_string:\n",
    "#     print(repr(ii))"
   ]
  },
  {
   "cell_type": "code",
   "execution_count": 9,
   "metadata": {},
   "outputs": [],
   "source": [
    "@timeit\n",
    "def getWavData(inFile):\n",
    "    wavFile = wave.open(inFile, 'r')\n",
    "    wavParams = wavFile.getparams()\n",
    "    \n",
    "    nChannels = wavParams[0]\n",
    "    byteDepth = wavParams[1]\n",
    "    nFrames = wavParams[3]\n",
    "\n",
    "    wavData = [ [None] * nFrames for _ in range(nChannels) ]\n",
    "    \n",
    "    shannon_container = [ {} for _ in range(nChannels) ]\n",
    "    \n",
    "    frames = wavFile.readframes(nFrames)\n",
    "\n",
    "    for i in range(nFrames):\n",
    "#         wavData[i] = [None] * nChannels\n",
    "        for j in range(nChannels):\n",
    "            start = ( i * nChannels + j ) * byteDepth\n",
    "            stop = start + byteDepth\n",
    "#             wavData[i][j] = struct.unpack('<h', frames[start:stop])[0]\n",
    "            value = struct.unpack('<h', frames[start:stop])[0]\n",
    "            wavData[j][i] = value\n",
    "            \n",
    "            try:\n",
    "                shannon_container[j][value] += 1.0\n",
    "            except:\n",
    "                shannon_container[j][value] = 1.0\n",
    "            else:\n",
    "                pass\n",
    "        \n",
    "    return wavData, shannon_container\n"
   ]
  },
  {
   "cell_type": "code",
   "execution_count": 10,
   "metadata": {},
   "outputs": [
    {
     "name": "stdout",
     "output_type": "stream",
     "text": [
      "'getWavData'  16575.95 ms\n"
     ]
    }
   ],
   "source": [
    "# inFile = './Yamaha-TG100-Whistle-C5.wav'\n",
    "# start = time.clock() \n",
    "# data2, shann_dat = getWavData(inFile)\n",
    "# elapsed = time.clock()\n",
    "# elapsedNew = elapsed - start\n",
    "# print(elapsedNew)\n",
    "\n",
    "inFile = './01 - tank! (tv stretch).wav'\n",
    "\n",
    "data2, shann_dat = getWavData(inFile)"
   ]
  },
  {
   "cell_type": "code",
   "execution_count": 11,
   "metadata": {},
   "outputs": [],
   "source": [
    "chanel_l = data2[:][0]\n",
    "chanel_r = data2[:][0]"
   ]
  },
  {
   "cell_type": "code",
   "execution_count": 12,
   "metadata": {},
   "outputs": [],
   "source": [
    "@timeit\n",
    "def shannon_stats(data_dict, total_):\n",
    "    entropy = 0.0\n",
    "    prob = {}\n",
    "    total_prob = 0.0\n",
    "    for (index, times) in data_dict.items():\n",
    "        \n",
    "        p_ = times / total_\n",
    "        \n",
    "        total_prob += p_\n",
    "        \n",
    "        try:\n",
    "            prob[index] = abs( p_ * math.log2(p_) )\n",
    "        except:\n",
    "            print(index, times)\n",
    "            print(p_)\n",
    "        else:\n",
    "            pass\n",
    "        \n",
    "        entropy += prob[index]\n",
    "    \n",
    "    return entropy, prob, total_prob"
   ]
  },
  {
   "cell_type": "code",
   "execution_count": 13,
   "metadata": {},
   "outputs": [
    {
     "name": "stdout",
     "output_type": "stream",
     "text": [
      "'shannon_stats'  38.71 ms\n"
     ]
    }
   ],
   "source": [
    "entropy, prob, total_prob = shannon_stats(shann_dat[0], len(data2[0]))"
   ]
  },
  {
   "cell_type": "code",
   "execution_count": 14,
   "metadata": {},
   "outputs": [
    {
     "data": {
      "text/plain": [
       "14.993775691540394"
      ]
     },
     "execution_count": 14,
     "metadata": {},
     "output_type": "execute_result"
    }
   ],
   "source": [
    "entropy"
   ]
  },
  {
   "cell_type": "code",
   "execution_count": 15,
   "metadata": {},
   "outputs": [
    {
     "data": {
      "text/plain": [
       "0.9999999999999156"
      ]
     },
     "execution_count": 15,
     "metadata": {},
     "output_type": "execute_result"
    }
   ],
   "source": [
    "total_prob"
   ]
  },
  {
   "cell_type": "code",
   "execution_count": 16,
   "metadata": {},
   "outputs": [],
   "source": [
    "@timeit\n",
    "def run_length(data_list):\n",
    "    family = set(data_list)\n",
    "    \n",
    "    compress = []\n",
    "    \n",
    "    last = data_list[0]\n",
    "    current = data_list[0]\n",
    "    \n",
    "    times_tuple = [current, 0]\n",
    "    \n",
    "    for element in data_list:\n",
    "        if element == current:\n",
    "            times_tuple[1] += 1\n",
    "        else:\n",
    "            compress += [copy(times_tuple)]\n",
    "            current = element\n",
    "            times_tuple = [current, 1]\n",
    "    \n",
    "    return compress"
   ]
  },
  {
   "cell_type": "code",
   "execution_count": 17,
   "metadata": {},
   "outputs": [
    {
     "name": "stdout",
     "output_type": "stream",
     "text": [
      "'run_length'  13421.18 ms\n"
     ]
    }
   ],
   "source": [
    "xx =run_length(chanel_l)"
   ]
  },
  {
   "cell_type": "code",
   "execution_count": 21,
   "metadata": {},
   "outputs": [
    {
     "data": {
      "text/plain": [
       "9050487"
      ]
     },
     "execution_count": 21,
     "metadata": {},
     "output_type": "execute_result"
    }
   ],
   "source": [
    "len(xx)"
   ]
  },
  {
   "cell_type": "code",
   "execution_count": null,
   "metadata": {},
   "outputs": [],
   "source": []
  }
 ],
 "metadata": {
  "kernelspec": {
   "display_name": "Environment (conda_anaconda3)",
   "language": "python",
   "name": "conda_anaconda3"
  },
  "language_info": {
   "codemirror_mode": {
    "name": "ipython",
    "version": 3
   },
   "file_extension": ".py",
   "mimetype": "text/x-python",
   "name": "python",
   "nbconvert_exporter": "python",
   "pygments_lexer": "ipython3",
   "version": "3.6.5"
  }
 },
 "nbformat": 4,
 "nbformat_minor": 2
}
